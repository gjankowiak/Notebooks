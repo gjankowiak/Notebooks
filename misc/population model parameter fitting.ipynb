{
 "metadata": {
  "name": "",
  "signature": "sha256:a1557561daccd53ac95a5e2fb2e2f4fd6e3b08665dc76a49d8aae72eeaf06fe2"
 },
 "nbformat": 3,
 "nbformat_minor": 0,
 "worksheets": [
  {
   "cells": [
    {
     "cell_type": "heading",
     "level": 1,
     "metadata": {},
     "source": [
      "D\u00e9termination de param\u00e8tres pour un mod\u00e8le d'\u00e9volution de population"
     ]
    },
    {
     "cell_type": "code",
     "collapsed": false,
     "input": [
      "%matplotlib inline\n",
      "pylab.rcParams['figure.figsize'] = (10.0, 8.0)\n",
      "\n",
      "from numpy import *\n",
      "from scipy.optimize import root"
     ],
     "language": "python",
     "metadata": {},
     "outputs": [],
     "prompt_number": 1
    },
    {
     "cell_type": "heading",
     "level": 3,
     "metadata": {},
     "source": [
      "La population et ses d\u00e9riv\u00e9es en fonction des param\u00e8tres"
     ]
    },
    {
     "cell_type": "markdown",
     "metadata": {},
     "source": [
      "$$p_{p_0, m, n} : t \\mapsto \\frac{m p_0 e^{mt}}{n p_0 e^{m t} + m - n p_0}$$"
     ]
    },
    {
     "cell_type": "code",
     "collapsed": false,
     "input": [
      "def population(p0, m, n, t):\n",
      "    return m*p0 * exp(m*t) / (n*p0*exp(m*t) + m - n*p0)\n",
      "\n",
      "def ddm_population(p0, m, n, t):\n",
      "    \"\"\"D\u00e9riv\u00e9e partielle par rapport \u00e0 m\n",
      "    \"\"\"\n",
      "    return p0*exp(m*t)*(n*p0*(exp(m*t)-1)+t*m*(m-n*p0))/(n*p0*exp(m*t)+m-n*p0)**2\n",
      "    \n",
      "def ddn_population(p0, m, n, t):\n",
      "    \"\"\"D\u00e9riv\u00e9e partielle par rapport \u00e0 n\n",
      "    \"\"\"\n",
      "    return m*p0*p0*exp(m*t)*(exp(m*t)-1)/(n*p0*exp(m*t) + m - n*p0)**2"
     ],
     "language": "python",
     "metadata": {},
     "outputs": [],
     "prompt_number": 2
    },
    {
     "cell_type": "heading",
     "level": 3,
     "metadata": {},
     "source": [
      "Le syst\u00e8me d'\u00e9quations \u00e0 r\u00e9soudre"
     ]
    },
    {
     "cell_type": "code",
     "collapsed": false,
     "input": [
      "def solveur(p0, t1, p1, t2, p2, facteur=1, method=\"hybr\"):\n",
      "    \n",
      "    def residu(x):\n",
      "        \"\"\"Fonction donc on cherche le z\u00e9ro\n",
      "        \"\"\"\n",
      "        m, n = x[0], x[1]\n",
      "        return array([\n",
      "                population(p0, m, n, t1) - p1,\n",
      "                population(p0, m, n, t2) - p2\n",
      "            ])\n",
      "\n",
      "    def jacobien(x):\n",
      "        m, n = x[0], x[1]\n",
      "        return array([\n",
      "                [ddm_population(p0, m, n, t1), ddm_population(p0, m, n, t2)],\n",
      "                [ddn_population(p0, m, n, t1), ddn_population(p0, m, n, t2)]\n",
      "            ])\n",
      "    \n",
      "    def solveur_parametre(x0):\n",
      "        resultat = root(residu, x0, jac=jacobien, method=method)\n",
      "        return resultat\n",
      "    \n",
      "    return solveur_parametre"
     ],
     "language": "python",
     "metadata": {},
     "outputs": [],
     "prompt_number": 3
    },
    {
     "cell_type": "heading",
     "level": 3,
     "metadata": {},
     "source": [
      "R\u00e9solution"
     ]
    },
    {
     "cell_type": "heading",
     "level": 4,
     "metadata": {},
     "source": [
      "D\u00e9finition des param\u00e8tres"
     ]
    },
    {
     "cell_type": "code",
     "collapsed": false,
     "input": [
      "pop_0  = 29981336 # Population initiale\n",
      "pop_7  = 31359340 # Population apr\u00e8s 7 ans\n",
      "pop_13 = 32402940 # Population apr\u00e8s 13 ans"
     ],
     "language": "python",
     "metadata": {},
     "outputs": [],
     "prompt_number": 4
    },
    {
     "cell_type": "markdown",
     "metadata": {},
     "source": [
      "Num\u00e9riquement, le probl\u00e8me n'est pas tr\u00e8s bien pos\u00e9. On utilise donc le changement de param\u00e8tres suivant\n",
      "$$ p_{p_0, m, n} = \\frac{1}{k}p_{k\\, p_0, m, \\frac{n}{k}}$$ "
     ]
    },
    {
     "cell_type": "heading",
     "level": 4,
     "metadata": {},
     "source": [
      "On choisit un point initial et on r\u00e9sout"
     ]
    },
    {
     "cell_type": "code",
     "collapsed": false,
     "input": [
      "facteur = 1e-7\n",
      "\n",
      "x0 = array([1e-5, 1e-12/facteur]) # Point initial\n",
      "\n",
      "s = solveur(pop_0*facteur, 7, pop_7*facteur, 13, pop_13*facteur, method=\"hybr\")\n",
      "\n",
      "resultat = s(x0)\n",
      "\n",
      "m_sol = resultat.x[0]\n",
      "n_sol = resultat.x[1]*facteur\n",
      "\n",
      "print \"m : {0}\\nn : {1}\\npopulation limite : {2}\".format(m_sol, n_sol, m_sol/n_sol)"
     ],
     "language": "python",
     "metadata": {},
     "outputs": [
      {
       "output_type": "stream",
       "stream": "stdout",
       "text": [
        "m : 0.0309178139908\n",
        "n : 7.98381577349e-10\n",
        "population limite : 38725610.4949\n"
       ]
      }
     ],
     "prompt_number": 7
    },
    {
     "cell_type": "heading",
     "level": 4,
     "metadata": {},
     "source": [
      "Graphe de l'\u00e9volution de population avec les param\u00e8tres solution"
     ]
    },
    {
     "cell_type": "code",
     "collapsed": false,
     "input": [
      "population_parametree = vectorize(lambda t:population(pop_0, m_sol, n_sol, t))\n",
      "t = range(300)\n",
      "plot(t, population_parametree(t))\n",
      "plot([0, 7, 13], [pop_0, pop_7, pop_13], \"o\")\n",
      "xlabel(u\"Ann\u00e9es\")\n",
      "ylabel(\"Population\")\n",
      "axhline(m_sol/n_sol)"
     ],
     "language": "python",
     "metadata": {},
     "outputs": [
      {
       "metadata": {},
       "output_type": "pyout",
       "prompt_number": 8,
       "text": [
        "<matplotlib.lines.Line2D at 0x7f6bda4313d0>"
       ]
      },
      {
       "metadata": {},
       "output_type": "display_data",
       "png": "[encoded data removed]",
       "text": [
        "<matplotlib.figure.Figure at 0x7f6bda51de90>"
       ]
      }
     ],
     "prompt_number": 8
    },
    {
     "cell_type": "code",
     "collapsed": false,
     "input": [],
     "language": "python",
     "metadata": {},
     "outputs": []
    }
   ],
   "metadata": {}
  }
 ]
}